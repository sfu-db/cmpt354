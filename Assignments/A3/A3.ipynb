{
 "cells": [
  {
   "cell_type": "markdown",
   "metadata": {},
   "source": [
    "# Assignment 3. Relational Algebra and Indexing"
   ]
  },
  {
   "cell_type": "markdown",
   "metadata": {},
   "source": [
    "## Objectives"
   ]
  },
  {
   "cell_type": "markdown",
   "metadata": {},
   "source": [
    "In this assignment, you need to complete two tasks. In Task 1, you will be trained to write relational algebra queries. In Task 2, you will be trained to create indexes to speed up query performance.  \n",
    "\n",
    "In addition, you will get familiar with LaTeX (the de facto standard for the communication and publication of scientific documents), and learn more features about jupyter notebook.\n",
    "\n",
    "Download [A3.zip](A3.zip). Answer the questions in A3.ipynb."
   ]
  },
  {
   "cell_type": "markdown",
   "metadata": {},
   "source": [
    "## Task 1. Relational Algebra (10 points)"
   ]
  },
  {
   "cell_type": "markdown",
   "metadata": {},
   "source": [
    "You will use the similar bank database with [A2](https://sfu-db.github.io/cmpt354/Assignments/A2/A2.html). But with more tables and colomns. The database has 7 tables. The following shows their schemas. \n",
    " - Customer = {<span style=\"text-decoration:underline\">customerID</span>, firstName, lastName, brithDate, income}\n",
    " - Account = {<span style=\"text-decoration:underline\">accNumber</span>, type, balance, branchNumber<sup>FK-Branch</sup>}\n",
    " - Owns = {<span style=\"text-decoration:underline\">customerID</span><sup>FK-Customer</sup>, <span style=\"text-decoration:underline\">accNumber</span><sup>FK-Account</sup>}\n",
    " - Transactions = {<span style=\"text-decoration:underline\">transNumber</span>, <span style=\"text-decoration:underline\">accNumber</span><sup>FK-Account</sup>, amount, date, description}\n",
    " - Employee = {<span style=\"text-decoration:underline\">sin</span>, firstName, lastName, salary, startDate, branchNumber<sup>FK-Branch</sup>}\n",
    " - PersonalBanker = {<span style=\"text-decoration:underline\">customerID</span><sup>FK-Customer</sup>, sin<sup>FK-Employee</sup>}\n",
    " - Branch = {<span style=\"text-decoration:underline\">branchNumber</span>, branchName, street, numberEmployees, managerSIN<sup>FK-Employee</sup>, budget}"
   ]
  },
  {
   "cell_type": "markdown",
   "metadata": {},
   "source": [
    "Write relational algebra queries to answer questions (1) to (10). Your answer to each question should consist of a single relational algebra query. You may use input relation names to differentiate between attributes with the same name in the results of a join or Cartesian product (such as referring to Employee.firstName or Customer.firstName in the results of the Cartesian product of Employee and Customer).\n",
    " "
   ]
  },
  {
   "cell_type": "markdown",
   "metadata": {},
   "source": [
    "### Preliminary\n",
    "\n",
    "To write a relational algebra query in a cell, please first switch the cell to the [Markdown cell](https://jupyter-notebook.readthedocs.io/en/stable/examples/Notebook/Working%20With%20Markdown%20Cells.html). Then, you can type [LaTeX equations](https://jupyter-notebook.readthedocs.io/en/stable/examples/Notebook/Working%20With%20Markdown%20Cells.html#LaTeX-equations) in the cell. Here is a list of common symbols used by relational algebras.\n",
    "\n",
    "* Selection ($\\sigma$)\n",
    "* Projection ($\\pi$)\n",
    "* Union ($\\cup$)\n",
    "* Intersect ($\\cap$)\n",
    "* Set Difference ($-$) \n",
    "* Cross Product ($\\times$)\n",
    "* Rename ($\\rho$)\n",
    "* Join ($\\bowtie$)\n",
    "* Conjunction ($\\wedge$)\n",
    "* Disconjunction ($\\vee$)\n",
    "* Greater Than or Equal To ($\\geq$)\n",
    "* Less Than or Equal To ($\\leq$)"
   ]
  },
  {
   "cell_type": "markdown",
   "metadata": {},
   "source": [
    "Next, I am going to show you some RA queries. You can use them as training examples to learn how to write an RA query using latex equations."
   ]
  },
  {
   "cell_type": "markdown",
   "metadata": {},
   "source": [
    "**Example 1. sID of all students who have earned some grade over 80 and some grade below 50. (See [Slide 34](https://sfu-db.github.io/cmpt354/Lectures/lec5-relational-algebra.pdf))**"
   ]
  },
  {
   "cell_type": "markdown",
   "metadata": {},
   "source": [
    "$\\pi_{sID}(\\sigma_{grade > 80}(Took)) \\cap \\pi_{sID}(\\sigma_{grade < 50}(Took))$"
   ]
  },
  {
   "cell_type": "markdown",
   "metadata": {},
   "source": [
    "**Example 2. Student number of all students who have taken CMPT 354 (See [Slide 35](https://sfu-db.github.io/cmpt354/Lectures/lec5-relational-algebra.pdf))**"
   ]
  },
  {
   "cell_type": "markdown",
   "metadata": {
    "scrolled": true
   },
   "source": [
    "$\\pi_{sID}(\\sigma_{Offering.oID = Took.oID \\wedge cNum = 354} (Offering \\times Took) )$"
   ]
  },
  {
   "cell_type": "markdown",
   "metadata": {},
   "source": [
    "**Example 3. The names of all students who have passed a breadth course (grade >= 60 and breadth = True) with Martin (See [Slide 44](https://sfu-db.github.io/cmpt354/Lectures/lec5-relational-algebra.pdf))**"
   ]
  },
  {
   "cell_type": "markdown",
   "metadata": {},
   "source": [
    "$\\pi_{lastName, firstName}(\\sigma_{breadth = True \\wedge grade \\geq 60 \\wedge instructor = 'Martin'} (Student \\bowtie Took \\bowtie Offering \\bowtie Course ))$"
   ]
  },
  {
   "cell_type": "markdown",
   "metadata": {},
   "source": [
    "### Queries  (1 point per question)"
   ]
  },
  {
   "cell_type": "markdown",
   "metadata": {},
   "source": [
    "**1.** The *customer IDs, first names, last names and incomes* of customers who have an account at a branch with a budget no more than $1,000,000"
   ]
  },
  {
   "cell_type": "markdown",
   "metadata": {},
   "source": [
    "REPLACE WITH YOUR ANSWER"
   ]
  },
  {
   "cell_type": "markdown",
   "metadata": {},
   "source": [
    "** 2.** The *first and last names* of customers who were born after 1st of January 1985 and whose income is less than $75,000."
   ]
  },
  {
   "cell_type": "markdown",
   "metadata": {},
   "source": [
    "REPLACE WITH YOUR ANSWER"
   ]
  },
  {
   "cell_type": "markdown",
   "metadata": {},
   "source": [
    "**3.** The SINs, first and last names and salaries of employees who are both personal bankers and managers"
   ]
  },
  {
   "cell_type": "markdown",
   "metadata": {},
   "source": [
    "REPLACE WITH YOUR ANSWER"
   ]
  },
  {
   "cell_type": "markdown",
   "metadata": {},
   "source": [
    "**4.**  The customer IDs of customers who own a joint account (an account that is owned by more than one customer)"
   ]
  },
  {
   "cell_type": "markdown",
   "metadata": {},
   "source": [
    "REPLACE WITH YOUR ANSWER"
   ]
  },
  {
   "cell_type": "markdown",
   "metadata": {},
   "source": [
    "**5.**  The customer IDs of customers whose accounts have no transactions with amounts of which the absolute value is less than \\$5,000 (i.e. all their transactions are either greater than or equal to \\$5,000 or less than or equal to -\\$5,000)."
   ]
  },
  {
   "cell_type": "markdown",
   "metadata": {},
   "source": [
    "REPLACE WITH YOUR ANSWER"
   ]
  },
  {
   "cell_type": "markdown",
   "metadata": {},
   "source": [
    "**6.**  The branch names of branches that employ at least one employee whose last name is \"Martin\", and at least one employee whose last name is \"Wang\"; note that branch name is not a candidate key"
   ]
  },
  {
   "cell_type": "markdown",
   "metadata": {},
   "source": [
    "REPLACE WITH YOUR ANSWER"
   ]
  },
  {
   "cell_type": "markdown",
   "metadata": {},
   "source": [
    "**7.**  The SINs and salaries of employees who earn more than the manager of their branch"
   ]
  },
  {
   "cell_type": "markdown",
   "metadata": {},
   "source": [
    "REPLACE WITH YOUR ANSWER"
   ]
  },
  {
   "cell_type": "markdown",
   "metadata": {},
   "source": [
    "**8.**  The first names, last names and birth dates of customers who own an account in the Vancouver branch and the first names, last names and start dates of employees who work in the Vancouver branch (i.e. one query that returns one list of first and last names and dates of these 2 groups of people)"
   ]
  },
  {
   "cell_type": "markdown",
   "metadata": {},
   "source": [
    "REPLACE WITH YOUR ANSWER"
   ]
  },
  {
   "cell_type": "markdown",
   "metadata": {},
   "source": [
    "**9.**  The customer IDs of customers who have personal bankers in either the Vancouver or Metrotown branches (note that the personal bankers must be distinct employees as an employee only works at one branch)"
   ]
  },
  {
   "cell_type": "markdown",
   "metadata": {},
   "source": [
    "REPLACE WITH YOUR ANSWER"
   ]
  },
  {
   "cell_type": "markdown",
   "metadata": {},
   "source": [
    "**10.**    You are to find the SINs, and first and last names of employees who own an account in the branch in which they work. "
   ]
  },
  {
   "cell_type": "markdown",
   "metadata": {},
   "source": [
    "REPLACE WITH YOUR ANSWER"
   ]
  },
  {
   "cell_type": "markdown",
   "metadata": {},
   "source": [
    "## Task 2. Indexing (10 points)"
   ]
  },
  {
   "cell_type": "markdown",
   "metadata": {},
   "source": [
    "In this task, you will be asked to i) select suitable indexes to speed up query performance and ii) examine the query plan of an SQL query. \n",
    "\n",
    "We are going to use a new database called flights.db. You can find it in [A3.zip](A3.zip). In the database, there is a single table, called FLIGHTS. The following shows its schema:\n",
    "\n",
    "**FLIGHTS** (fid, year, month_id, day_of_month, day_of_week_id, carrier_id, flight_num, origin_city, origin_state, dest_city, dest_state, departure_delay, taxi_out, arrival_delay, canceled, actual_time, distance)\n",
    "\n",
    "Note that this task only needs to use four attributes: `carrier_id`, `origin_city`, `actual_time`, and `dest_city`."
   ]
  },
  {
   "cell_type": "markdown",
   "metadata": {},
   "source": [
    "### Questions"
   ]
  },
  {
   "cell_type": "markdown",
   "metadata": {},
   "source": [
    "**1.** Consider the following queries:\n",
    "\n",
    "```sqlite\n",
    "(a): SELECT DISTINCT carrier_id\n",
    "     FROM Flights\n",
    "     WHERE origin_city = 'Seattle WA' AND actual_time <= 180;\n",
    "```\n",
    "\n",
    "\n",
    "```sqlite\n",
    "(b): SELECT DISTINCT carrier_id\n",
    "     FROM Flights\n",
    "     WHERE origin_city = 'Gunnison CO' AND actual_time <= 180;\n",
    "```\n",
    "\n",
    "\n",
    "```sqlite\n",
    "(c): SELECT DISTINCT carrier_id\n",
    "     FROM Flights\n",
    "     WHERE origin_city = 'Seattle WA' AND actual_time <= 30;\n",
    "```"
   ]
  },
  {
   "cell_type": "markdown",
   "metadata": {},
   "source": [
    "Choose one single simple index (index on one attribute) that is most likely to speed up all three queries. Write down the CREATE INDEX statement and explain why you chose that index below."
   ]
  },
  {
   "cell_type": "markdown",
   "metadata": {},
   "source": [
    "* **What is the CREATE INDEX statement (1 point)?**\n",
    "    * REPLACE WITH YOUR ANSWER\n",
    "* **Why did you choose the index (1 point)?**  \n",
    "    * REPLACE WITH YOUR ANSWER"
   ]
  },
  {
   "cell_type": "markdown",
   "metadata": {},
   "source": [
    "Open a command line shell and start the sqlite program. Connect to the provided flights.db, and check whether the FLIGHTS table has the index that you indicate above. If not, add this index to the FLIGHTS table. "
   ]
  },
  {
   "cell_type": "markdown",
   "metadata": {},
   "source": [
    "* **Does the FLIGHTS table has the index that you indicate above (0.5 points)?**\n",
    "    * REPLACE WITH YOUR ANSWER"
   ]
  },
  {
   "cell_type": "markdown",
   "metadata": {},
   "source": [
    "Please check whether each query used the index or not. Hint: you can use `EXPLAIN QUERY PLAN ...` to see the query plan of each query. "
   ]
  },
  {
   "cell_type": "markdown",
   "metadata": {},
   "source": [
    "* **Did Query (a) use the index? (0.5 point)?**\n",
    "    * REPLACE WITH YOUR ANSWER\n",
    "* **Did Query (b) use the index? (0.5 point)?**\n",
    "    * REPLACE WITH YOUR ANSWER\n",
    "* **Did Query (c) use the index? (0.5 point)?**\n",
    "    * REPLACE WITH YOUR ANSWER"
   ]
  },
  {
   "cell_type": "markdown",
   "metadata": {},
   "source": [
    "**2.** Consider this query:\n",
    "\n",
    "```sqlite\n",
    "(d): SELECT DISTINCT F2.origin_city\n",
    "     FROM Flights F1, Flights F2\n",
    "     WHERE F1.dest_city = F2.dest_city\n",
    "         AND F1.origin_city='Gunnison CO'\n",
    "         AND F1.actual_time <= 30;\n",
    "```"
   ]
  },
  {
   "cell_type": "markdown",
   "metadata": {},
   "source": [
    "Choose one simple index (index on one attribute), different from the index for the question above, that is likely to speed up this query. Write down the CREATE INDEX statement and explain why you chose that index as a SQL comment.\n",
    "* **What is the CREATE INDEX statement (1 point)?**\n",
    "    * REPLACE WITH YOUR ANSWER\n",
    "* **Why did you choose the index (1 point)?**\n",
    "    * REPLACE WITH YOUR ANSWER"
   ]
  },
  {
   "cell_type": "markdown",
   "metadata": {},
   "source": [
    "Connect to the provided flights.db, and check whether the FLIGHTS table has this second index that you indicate above. If not, add this index to the FLIGHTS table. \n",
    "* **Does the FLIGHTS table has the index that you indicate above (0.5 points)?**\n",
    "    * REPLACE WITH YOUR ANSWER"
   ]
  },
  {
   "cell_type": "markdown",
   "metadata": {},
   "source": [
    "Please check whether the query used this second index or not. \n",
    "* **Did Query (d) use this second index? (0.5 point)?**\n",
    "    * REPLACE WITH YOUR ANSWER"
   ]
  },
  {
   "cell_type": "markdown",
   "metadata": {},
   "source": [
    "**3.** Now we want to know how effective the two indexes are. We compare the runtimes of the queries with and without indexes. Hint: use `timer on` to turn SQL timer on."
   ]
  },
  {
   "cell_type": "markdown",
   "metadata": {},
   "source": [
    "Execute queries (a) - (b) on the FLIGHTS table that do not have the two indexes. Please create a screenshot for the runtime of each query. I've put my screenshots below. You can find them in the `runtime` folder in the A3.zip. Please replace them with yours. (1.5 points)"
   ]
  },
  {
   "cell_type": "markdown",
   "metadata": {},
   "source": [
    "<table>\n",
    "<tr>\n",
    "    <td> <img src=\"runtimes/no-indexes-a.png\" alt=\"Drawing\" style=\"width: 250px;\"/> </td>\n",
    "    <td> <img src=\"runtimes/no-indexes-b.png\" alt=\"Drawing\" style=\"width: 250px;\"/> </td>\n",
    "    <td> <img src=\"runtimes/no-indexes-c.png\" alt=\"Drawing\" style=\"width: 250px;\"/> </td>\n",
    "    <td> <img src=\"runtimes/no-indexes-d.png\" alt=\"Drawing\" style=\"width: 250px;\"/> </td>\n",
    "    </tr>\n",
    "</table>"
   ]
  },
  {
   "cell_type": "markdown",
   "metadata": {},
   "source": [
    "Execute queries (a) - (b) on the FLIGHTS table that has the two indexes. Please create a screenshot for the runtime of each query. I've put my screenshots below. Please replace them with yours. (1.5 points)"
   ]
  },
  {
   "cell_type": "markdown",
   "metadata": {},
   "source": [
    "<table>\n",
    "<tr>\n",
    "    <td> <img src=\"runtimes/with-indexes-a.png\" alt=\"Drawing\" style=\"width: 250px;\"/> </td>\n",
    "    <td> <img src=\"runtimes/with-indexes-b.png\" alt=\"Drawing\" style=\"width: 250px;\"/> </td>\n",
    "    <td> <img src=\"runtimes/with-indexes-c.png\" alt=\"Drawing\" style=\"width: 250px;\"/> </td>\n",
    "    <td> <img src=\"runtimes/with-indexes-d.png\" alt=\"Drawing\" style=\"width: 250px;\"/> </td>\n",
    "    </tr>\n",
    "</table>"
   ]
  },
  {
   "cell_type": "markdown",
   "metadata": {},
   "source": [
    "## Submission"
   ]
  },
  {
   "cell_type": "markdown",
   "metadata": {},
   "source": [
    "Download [A3.zip](A3.zip). Answer the questions in A3.ipynb. Put `A3.ipynb` and the `runtime` folder into A3-submission.zip. Please note that i) you need to update the `runtime` folder with your screenshots of the query runtimes; ii) you do *not* need to put the flights.db into A3-submission.zip. \n",
    "\n",
    "Submit A3-submission.zip to the CourSys activity Assignment 3. "
   ]
  }
 ],
 "metadata": {
  "kernelspec": {
   "display_name": "Python 3 (ipykernel)",
   "language": "python",
   "name": "python3"
  },
  "language_info": {
   "codemirror_mode": {
    "name": "ipython",
    "version": 3
   },
   "file_extension": ".py",
   "mimetype": "text/x-python",
   "name": "python",
   "nbconvert_exporter": "python",
   "pygments_lexer": "ipython3",
   "version": "3.9.7"
  }
 },
 "nbformat": 4,
 "nbformat_minor": 2
}
