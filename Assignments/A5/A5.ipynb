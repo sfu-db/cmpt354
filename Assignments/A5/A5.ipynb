{
 "cells": [
  {
   "cell_type": "markdown",
   "metadata": {},
   "source": [
    "# Assignment 5. Database Application and Transaction Management"
   ]
  },
  {
   "cell_type": "markdown",
   "metadata": {},
   "source": [
    "## Objectives"
   ]
  },
  {
   "cell_type": "markdown",
   "metadata": {},
   "source": [
    "The assignment has two parts.\n",
    "\n",
    "* In Part 1, you need to write a python program to interact with an Azure SQL Server database.\n",
    "* In Part 2, you need to implement a Web service using SQL transactions and Flask.\n",
    "\n",
    "After this assignment, you will not only get experience with database application development and transaction management, but also get familiar with some popular tools such as [Azure SQL server](https://azure.microsoft.com/en-ca/services/sql-database/), [pyodbc](https://github.com/mkleehammer/pyodbc), and [Flask](http://flask.pocoo.org/). \n",
    "\n",
    "If you have never written any python program, please take a look at [\"Learn the Basics\"](https://www.learnpython.org/) .\n",
    "\n",
    "Download [A5.zip](A5.zip). Complete `connect_db.py`, `loaddata.py`, and `query.py`. Note that there are two deadlines for this assignment (see [Submission](#Submission))."
   ]
  },
  {
   "cell_type": "markdown",
   "metadata": {},
   "source": [
    "## Part 1. Database Programming (10 points)"
   ]
  },
  {
   "cell_type": "markdown",
   "metadata": {},
   "source": [
    "Please first go through Azure SQL Server Setup and then do Task 1. \n",
    "\n",
    "### Task 1. Azure SQL Server Setup (2 points)"
   ]
  },
  {
   "cell_type": "markdown",
   "metadata": {},
   "source": [
    "**Step 1.** Follow the lecture to create an **empty** SQL database (named `VideoStore`) on Azure. \n",
    "\n",
    "**Step 2.** Since TA needs to check whether you succeed, <font color=\"red\">please go to Firewall settings and add a rule that allows any IP to access your Azure services (see the screenshot below) </font>.   \n",
    "\n",
    "<img src=\"set-any-ip.png\" alt=\"Drawing\" style=\"width: 500px;\"/>\n",
    "\n",
    "**Step 3.** Install [pyodbc](https://github.com/mkleehammer/pyodbc) on your computer\n",
    "\n",
    "**Step 4.** Install the ODBC driver (see [Prerequisites (MacOS, Windows, or Ubuntu)](https://docs.microsoft.com/en-us/azure/sql-database/sql-database-connect-query-python#prerequisites))\n",
    "\n",
    "**Step 5.** Open `connect_db.py` in the A5 folder, and replace ODBC_STR with your connection string. Open a terminal and type `python connect_db.py`. You will see: \n",
    "\n",
    "\n",
    "<img src=\"success.png\" alt=\"Drawing\" style=\"width: 500px;\"/>\n",
    "\n",
    "**Remarks**\n",
    "* You need to install [Python SQL Driver](https://docs.microsoft.com/en-us/sql/connect/python/pyodbc/python-sql-driver-pyodbc?view=sql-server-ver15)\n",
    "\n",
    "* If you encounter any other difficulty, please ask the questions on Piazza. \n",
    "\n",
    "* You need to submit `connect_db.py` for this task\n",
    "\n",
    "\n"
   ]
  },
  {
   "cell_type": "markdown",
   "metadata": {},
   "source": [
    "\n",
    "### Task 2. Data Loading (8 points)"
   ]
  },
  {
   "cell_type": "markdown",
   "metadata": {},
   "source": [
    "Imagine you open your own video rental store (like Netflix). Your store allows customers to rent movies. You need to keep track of which customers are currently renting what movies. You design the following database. \n",
    "* RentalPlan(<u>pid</u> INT, pname VARCHAR(50), monthly_fee FLOAT, max_movies INT)\n",
    "* Customer(<u>cid</u> INT, pid<sup>FK-RentalPlan</sup> INT, username VARCHAR(50), password VARCHAR(50))\n",
    "* Rental(cid<sup>FK-Customer</sup> INT, mid<sup>FK-Movie</sup> INT, date_and_time DATETIME, status VARCHAR(6))\n",
    "* Movie(<u>mid</u> INT, mname VARCHAR(50), year INT)"
   ]
  },
  {
   "cell_type": "markdown",
   "metadata": {},
   "source": [
    "**Note**\n",
    "* Please use the <font color=\"blue\">ON DELETE CASCADE</font> option for all foreign key declarations.\n",
    "* You do not need to specify a primary key for the Rental table.\n",
    "* RentalPlan. Each plan has a plan id, a name (\"Basic\", \"Rental Plus\", \"Super Access\", or \"Ultra Access\"), the maximum number of rentals allowed (\"Basic\" allows one movie, \"Rental Plus\" allows three, \"Super Access\" allows five, \"Ultra Plus\" allows ten), and the monthly fee. \n",
    "* Rental. Each row represents the fact that a movie was rented by a customer with a customer id. The movie is identified by a movie id. The rental has a status that can be \"open\", or \"closed\", and the date and time the movie was checked out, to distinguish multiple rentals of the same movie by the same customer. When a customer first rents a movie, then you create an \"open\" entry in Rentals; when she returns it you update it to \"closed\" (you never delete it)."
   ]
  },
  {
   "cell_type": "markdown",
   "metadata": {},
   "source": [
    "In this task, your job is to write a python program to create four tables in the `VideoStore` database that you created on Azure, and then load data into the tables. \n",
    "\n",
    "Open the `loaddata.py` file."
   ]
  },
  {
   "cell_type": "markdown",
   "metadata": {},
   "source": [
    "**a. Complete the `LoadRentalPlan` function （2 points)**\n",
    "\n",
    "``` python\n",
    "\n",
    "def LoadRentalPlan(filename, conn):\n",
    "    \"\"\"\n",
    "        Input: \n",
    "            $filename: \"RentalPlan.txt\"\n",
    "            $conn: you can get it by calling connect_db()\n",
    "        Functionality:\n",
    "            1. Create a table named \"RentalPlan\" in the \"VideoStore\" database on Azure\n",
    "            2. Read data from \"RentalPlan.txt\" and insert them into \"RentalPlan\"\n",
    "               * Columns are separated by '|'\n",
    "               * You can use executemany() to insert multiple rows in bulk\n",
    "    \"\"\"\n",
    "    # WRITE YOUR CODE HERE\n",
    "\n",
    "```"
   ]
  },
  {
   "cell_type": "markdown",
   "metadata": {},
   "source": [
    "**b. Complete the `LoadCustomer` function （2 points)**\n",
    "\n",
    "``` python\n",
    "\n",
    "def LoadCustomer(filename, conn):\n",
    "    \"\"\"\n",
    "        Input: \n",
    "            $filename: \"Customer.txt\"\n",
    "            $conn: you can get it by calling connect_db()\n",
    "        Functionality:\n",
    "            1. Create a table named \"Customer\" in the \"VideoStore\" database on Azure\n",
    "            2. Read data from \"Customer.txt\" and insert them into \"Customer\".\n",
    "               * Columns are separated by '|'\n",
    "               * You can use executemany() to insert multiple rows in bulk\n",
    "    \"\"\"\n",
    "    # WRITE YOUR CODE HERE\n",
    "\n",
    "```"
   ]
  },
  {
   "cell_type": "markdown",
   "metadata": {},
   "source": [
    "**c. Complete the `LoadMovie` function （2 points)**\n",
    "\n",
    "``` python\n",
    "\n",
    "def LoadMovie(filename, conn):\n",
    "    \"\"\"\n",
    "        Input: \n",
    "            $filename: \"Movie.txt\"\n",
    "            $conn: you can get it by calling connect_db()\n",
    "        Functionality:\n",
    "            1. Create a table named \"Movie\" in the \"VideoStore\" database on Azure\n",
    "            2. Read data from \"Movie.txt\" and insert them into \"Movie\".\n",
    "               * Columns are separated by '|'\n",
    "               * You can use executemany() to insert multiple rows in bulk\n",
    "    \"\"\"\n",
    "    # WRITE YOUR CODE HERE\n",
    "\n",
    "```"
   ]
  },
  {
   "cell_type": "markdown",
   "metadata": {},
   "source": [
    "**d. Complete the `LoadRental` function （2 points)**\n",
    "\n",
    "``` python\n",
    "\n",
    "def LoadRental(filename, conn):\n",
    "    \"\"\"\n",
    "        Input: \n",
    "            $filename: \"Rental.txt\"\n",
    "            $conn: you can get it by calling connect_db()\n",
    "        Functionality:\n",
    "            1. Create a table named \"Rental\" in the VideoStore database on Azure\n",
    "            2. Read data from \"Rental.txt\" and insert them into \"Rental\".\n",
    "               * Columns are separated by '|'\n",
    "               * You can use executemany() to insert multiple rows in bulk\n",
    "    \"\"\"\n",
    "    # WRITE YOUR CODE HERE\n",
    "\n",
    "```"
   ]
  },
  {
   "cell_type": "markdown",
   "metadata": {},
   "source": [
    "**Note**\n",
    "* You need to submit `loaddata.py` for this task\n",
    "* After running `python loaddata.py`, you will see the four new tables from Azure SQL Server:\n",
    "\n",
    "<img src=\"videostore.png\" alt=\"Drawing\" style=\"width: 600px;\"/>"
   ]
  },
  {
   "cell_type": "markdown",
   "metadata": {},
   "source": [
    "## Part 2. Transaction Management (10 points)"
   ]
  },
  {
   "cell_type": "markdown",
   "metadata": {},
   "source": [
    "Many websites provide a web API for developers to use their services. Examples include [Twitter API](https://developer.twitter.com/en/docs/api-reference-index), [Yelp API](https://www.yelp.com/developers/documentation/v3/get_started), and [Square API](https://docs.connect.squareup.com/api/connect/v2). In this part, your job is to implement a Web API for your video rental store. **Be sure to use SQL transactions when appropriate**. \n"
   ]
  },
  {
   "cell_type": "markdown",
   "metadata": {},
   "source": [
    "### Warmup: Flask Tutorials"
   ]
  },
  {
   "cell_type": "markdown",
   "metadata": {},
   "source": [
    "You need to know some basic knowledge about Flask. Flask is a (micro) web framework written in Python. It's quite easy to learn and widely used in practice. \n",
    "\n",
    "**Step 1.** Read [A Minimal Application](http://flask.pocoo.org/docs/1.0/quickstart/#a-minimal-application). Make sure you can see 'Hello, World!' when opening http://127.0.0.1:5000/ in your browser \n",
    "\n",
    "**Step 2.** Enter the A5 folder and open a terminal. Run `FLASK_APP=query.py flask run`. Open the following URL in your browser and make sure you can see the response `{\"cid\":1}`.\n",
    "  * http://127.0.0.1:5000/login?username=mike&password=mike123\n",
    "  \n",
    "**Step 3.** Read the code in `query.py` and make sure you understand why the response of the above URL is `{\"cid\":1}`\n",
    "\n",
    "**Hints.** \n",
    "\n",
    "* Once you understand how `query.py` works, there is no need to learn Flask's other features for this assignment. \n",
    "\n",
    "* I recommend you enabling debug mode while testing your code. That is, run `FLASK_APP=query.py FLASK_DEBUG=1 flask run` instead.\n"
   ]
  },
  {
   "cell_type": "markdown",
   "metadata": {},
   "source": [
    "### Task 3: Who is the renter? (3 points)."
   ]
  },
  {
   "cell_type": "markdown",
   "metadata": {},
   "source": [
    "Please provide a method to get the renter of a given movie. The renter is represented by cid; the movie is represented by mid. If the movie is not being rented by anyone, return cid = -1. \n",
    "\n",
    "Please complete the `getRenterID` function in `query.py`.\n",
    "\n",
    "``` python\n",
    "\n",
    "@app.route('/getRenterID')\n",
    "def getRenterID():\n",
    "    \"\"\"\n",
    "       This HTTP method takes mid as input, and \n",
    "       returns cid which represents the customer who is renting the movie. \n",
    "       If this movie is not being rented by anyone, return cid = -1\n",
    "    \"\"\"\n",
    "    mid = int(request.args.get('mid', -1))\n",
    "    \n",
    "    # WRITE YOUR CODE HERE\n",
    "    \n",
    "    response = {'cid': cid}\n",
    "    return response\n",
    "\n",
    "```\n",
    "\n",
    "**Test**\n",
    "\n",
    "* http://127.0.0.1:5000/getRenterID?mid=1 Response: {'cid': 2}\n",
    "* http://127.0.0.1:5000/getRenterID?mid=4 Response: {'cid': -1}"
   ]
  },
  {
   "cell_type": "markdown",
   "metadata": {},
   "source": [
    "### Task 4: How many more movies that a customer can rent?  (3 points)."
   ]
  },
  {
   "cell_type": "markdown",
   "metadata": {},
   "source": [
    "Please provide a method to get how many more movies that a given customer can rent. \n",
    "Unlike Task 3, you may need to write multiple SQL statements for this task. In Azure SQL Server, by default each statement executes in its own transaction. To group multiple statements into a transaction, you need to set `conn.autocommit = False`. \n",
    "\n",
    "Please complete the `getRemainingRentals` function in `query.py`.\n",
    "\n",
    "```python\n",
    "\n",
    "@app.route('/getRemainingRentals')\n",
    "def getRemainingRentals():\n",
    "    \"\"\"\n",
    "        This HTTP method takes cid as input, and returns n which represents\n",
    "        how many more movies that cid can rent.\n",
    "\n",
    "        n = 0 means the customer has reached its maximum number of rentals.\n",
    "    \"\"\"\n",
    "    cid = int(request.args.get('cid', -1))\n",
    "    # Tell ODBC that you are starting a multi-statement transaction\n",
    "    conn.autocommit = False \n",
    "    \n",
    "\n",
    "    # WRITE YOUR CODE HERE\n",
    "\n",
    "\n",
    "    conn.autocommit = True\n",
    "    response = {\"remain\": n}\n",
    "    return jsonify(response)\n",
    "```\n",
    "\n",
    "**Test**\n",
    "\n",
    "* http://127.0.0.1:5000/getRemainingRentals?cid=1 Response: {'remain': 5}\n",
    "* http://127.0.0.1:5000/getRemainingRentals?cid=2 Response: {'remain': 2}\n",
    "* http://127.0.0.1:5000/getRemainingRentals?cid=3 Response: {'remain': 9}\n",
    "* http://127.0.0.1:5000/getRemainingRentals?cid=4 Response: {'remain': 1}"
   ]
  },
  {
   "cell_type": "markdown",
   "metadata": {},
   "source": [
    "### Task 5: Rent a movie  (4 points)."
   ]
  },
  {
   "cell_type": "markdown",
   "metadata": {},
   "source": [
    "Please provide a method that handle the request when a customer wants to rent a movie. You must use SQL transactions in order to guarantee ACID properties. In particular, you must ensure that the following two constraints are always satisfied, even if multiple instances of your application talk to the database.\n",
    "* C1. At any time a movie can be rented to at most one customer.\n",
    "* C2. At any time a customer can have at most as many movies rented as his/her plan allows.\n",
    "\n",
    "When a customer requests to rent a movie, you may need to deny this request if it violates a constraint. You can implement denying in many ways, but we strongly recommend using the SQL ROLLBACK statement (i.e., `conn.rollback()`)."
   ]
  },
  {
   "cell_type": "markdown",
   "metadata": {},
   "source": [
    "```python\n",
    "@app.route('/rent')\n",
    "def rent():\n",
    "    \"\"\"\n",
    "        This HTTP method takes cid and mid as input, and returns either \"success\" or \"fail\".\n",
    "\n",
    "        It returns \"fail\" if C1, C2, or both are violated:\n",
    "            C1. at any time a movie can be rented to at most one customer.\n",
    "            C2. at any time a customer can have at most as many movies rented as his/her plan allows.\n",
    "        Otherwise, it returns \"success\" and also updates the database accordingly.\n",
    "    \"\"\"\n",
    "    cid = int(request.args.get('cid', -1))\n",
    "    mid = int(request.args.get('mid', -1))\n",
    "\n",
    "    conn = get_db()\n",
    "\n",
    "     # Tell ODBC that you are starting a multi-statement transaction\n",
    "    conn.autocommit = False\n",
    "\n",
    "    # WRITE YOUR CODE HERE\n",
    "\n",
    "    conn.autocommit = True\n",
    "\n",
    "\n",
    "    #response = {\"rent\": \"success\"} OR response = {\"rent\": \"fail\"}\n",
    "    return jsonify(response)\n",
    "```"
   ]
  },
  {
   "cell_type": "markdown",
   "metadata": {},
   "source": [
    "**Test**\n",
    "\n",
    "On the initial database, you will get the following test results.\n",
    "* http://127.0.0.1:5000/rent?cid=4&mid=5 Response: {\"rent\": \"success\"}\n",
    "* http://127.0.0.1:5000/rent?cid=4&mid=6 Response: {\"rent\": \"fail\"}\n",
    "* http://127.0.0.1:5000/rent?cid=1&mid=3 Response: {\"rent\": \"success\"}\n",
    "* http://127.0.0.1:5000/rent?cid=1&mid=2 Response: {\"rent\": \"fail\"}"
   ]
  },
  {
   "cell_type": "markdown",
   "metadata": {},
   "source": [
    "## Submission"
   ]
  },
  {
   "cell_type": "markdown",
   "metadata": {},
   "source": [
    "Download [A5.zip](A5.zip). \n",
    "\n",
    "Put `connect_db.py`, `loaddata.py`, `query.py` and the four given data files (`Customer.txt`, `Movie.txt`, `Rental.txt`, and `RentalPlan.txt`) into A5-submission.zip. \n",
    "\n",
    "Submit A5-submission.zip to the CourSys activity Assignment 5."
   ]
  }
 ],
 "metadata": {
  "kernelspec": {
   "display_name": "Python 3 (ipykernel)",
   "language": "python",
   "name": "python3"
  },
  "language_info": {
   "codemirror_mode": {
    "name": "ipython",
    "version": 3
   },
   "file_extension": ".py",
   "mimetype": "text/x-python",
   "name": "python",
   "nbconvert_exporter": "python",
   "pygments_lexer": "ipython3",
   "version": "3.9.7"
  }
 },
 "nbformat": 4,
 "nbformat_minor": 2
}
