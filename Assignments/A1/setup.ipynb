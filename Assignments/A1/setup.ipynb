{
 "cells": [
  {
   "cell_type": "markdown",
   "metadata": {},
   "source": [
    "## Environment Setup"
   ]
  },
  {
   "cell_type": "markdown",
   "metadata": {},
   "source": [
    "*You need jupyter, SQLite, and ipython-sql for doing this assignment. <font color='red'>If you have any question, please ask on Piazza. </font>*"
   ]
  },
  {
   "cell_type": "markdown",
   "metadata": {},
   "source": [
    "###  Install Jupyter Notebook"
   ]
  },
  {
   "cell_type": "markdown",
   "metadata": {},
   "source": [
    "[Jupyter](http://jupyter.org/) (originally called IPython Notebook) is an open-source web application that allows you to create and share documents that contain live code, equations, visualizations and narrative text.\n",
    "Please install it using Anaconda.\n",
    " 1. Download & install Anaconda for Python 3.9 [here](https://www.anaconda.com/download/)\n",
    " 2. Open a terminal and type `jupyter notebook` to confirm that the installation works"
   ]
  },
  {
   "cell_type": "markdown",
   "metadata": {},
   "source": [
    "### Install SQLite"
   ]
  },
  {
   "cell_type": "markdown",
   "metadata": {},
   "source": [
    "If you are using Mac OS X or Linux, SQLite should be pre-installed. Open a terminal and type `sqlite3`. To exit, type `.exit`\n",
    "\n",
    "If you are using Windows, please do the followings:\n",
    "\n",
    " - Step 1 − Go to SQLite [download page](https://www.sqlite.org/download.html), and download precompiled binaries from Windows section.\n",
    "\n",
    " - Step 2 − Download sqlite-shell-win32-*.zip and sqlite-dll-win32-*.zip zipped files.\n",
    "\n",
    " - Step 3 − Create a folder C:\\>sqlite and unzip above two zipped files in this folder, which will give you sqlite3.def, sqlite3.dll and sqlite3.exe files.\n",
    "\n",
    " - Step 4 − Add C:\\>sqlite in your PATH environment variable and finally go to the command prompt and issue `sqlite3`.  To exit, type `.exit`\n"
   ]
  },
  {
   "cell_type": "markdown",
   "metadata": {},
   "source": [
    "### Install ipython-sql"
   ]
  },
  {
   "cell_type": "markdown",
   "metadata": {},
   "source": [
    "[ipython-sql](https://github.com/catherinedevlin/ipython-sql) is a jupyter notebook extension. It allows you to use SQL queries nicely inside jupyter notebooks. You can easily install it using Anaconda.\n",
    " - Open a terminal and type `conda install -c conda-forge ipython-sql`"
   ]
  }
 ],
 "metadata": {
  "kernelspec": {
   "display_name": "Python 3",
   "language": "python",
   "name": "python3"
  },
  "language_info": {
   "codemirror_mode": {
    "name": "ipython",
    "version": 3
   },
   "file_extension": ".py",
   "mimetype": "text/x-python",
   "name": "python",
   "nbconvert_exporter": "python",
   "pygments_lexer": "ipython3",
   "version": "3.6.5"
  }
 },
 "nbformat": 4,
 "nbformat_minor": 2
}
