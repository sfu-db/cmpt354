{
 "cells": [
  {
   "cell_type": "markdown",
   "metadata": {},
   "source": [
    "# Assignment 1. SQL Basics"
   ]
  },
  {
   "cell_type": "markdown",
   "metadata": {},
   "source": [
    "## Objectives"
   ]
  },
  {
   "cell_type": "markdown",
   "metadata": {},
   "source": [
    "In this assignment, you will go through the pipeline of using SQL to store and query a database. You will learn the followings:\n",
    " - How to create a table \n",
    " - How to insert data into a table\n",
    " - How to select certain rows or columns from a table\n",
    " - How to join two tables together\n",
    " - How to use expressions"
   ]
  },
  {
   "cell_type": "markdown",
   "metadata": {},
   "source": [
    "In addition, you will get familiar with Jupyter (a widely-used tool in the data science world)."
   ]
  },
  {
   "cell_type": "markdown",
   "metadata": {},
   "source": [
    "We will choose [SQLite](https://en.wikipedia.org/wiki/SQLite) as our DBMS. In contrast to many other database management systems (e.g., Oracle, DB2, and SQL Servier), SQLite is not a client–server database engine. Rather, it is embedded into the end program. This unique feature has led it to be adopted by [billions of applications](https://www.sqlite.org/mostdeployed.html). \n"
   ]
  },
  {
   "cell_type": "markdown",
   "metadata": {},
   "source": [
    "## Setup & Warmup"
   ]
  },
  {
   "cell_type": "markdown",
   "metadata": {},
   "source": [
    "1. Please follow this [setup page](setup.html) to setup environment\n",
    "2. Please download the [warmup.ipynb](warmup.ipynb) notebook. It will help you get familiar with SQLite and Jupyter notebook. If you have any question, please ask on Piazza. "
   ]
  },
  {
   "cell_type": "markdown",
   "metadata": {},
   "source": [
    "## Task 1. Using SQL to create a database (9 points)"
   ]
  },
  {
   "cell_type": "markdown",
   "metadata": {},
   "source": [
    "In this task, your goal is to create a database (named `coursys`), and then create two tables in the database. The first table is named `students` and the second table is named `grades`. "
   ]
  },
  {
   "cell_type": "markdown",
   "metadata": {},
   "source": [
    "Please execute the following cell to load the [ipython-sql](https://github.com/catherinedevlin/ipython-sql) extension."
   ]
  },
  {
   "cell_type": "code",
   "execution_count": null,
   "metadata": {},
   "outputs": [],
   "source": [
    "%load_ext sql"
   ]
  },
  {
   "cell_type": "markdown",
   "metadata": {},
   "source": [
    "### 1.1 (1 point) Create an empty database  named `coursys`"
   ]
  },
  {
   "cell_type": "code",
   "execution_count": null,
   "metadata": {},
   "outputs": [],
   "source": [
    "#REPLACE WITH YOUR CODE# "
   ]
  },
  {
   "cell_type": "markdown",
   "metadata": {},
   "source": [
    "### 1.2 (4 points) Create a table  named `grades`"
   ]
  },
  {
   "cell_type": "markdown",
   "metadata": {},
   "source": [
    "The `grades` table has four columns and six rows as shown below.\n",
    "```\n",
    "studentid, course, mark, credit\n",
    "1, CMPT 354, 90,   3.5\n",
    "1, MATH 251, 85,   4\n",
    "1, CMPT 120, 79.5, 5\n",
    "2, CMPT 354, 95,   3.5\n",
    "2, CMPT 120, 59,   5\n",
    "2, MATH 251, 70,   4\n",
    "```\n",
    "**Please write an SQL query to create the `grades` table. Note that the table has to meet the following requirements.  **\n",
    " * `studentid` - integer\n",
    " * `course` - char(10)\n",
    " * `mark` and `credit` - double\n",
    " * (studentid, course) is Primary Key\n",
    " * studentid  references `students.id`"
   ]
  },
  {
   "cell_type": "code",
   "execution_count": null,
   "metadata": {},
   "outputs": [],
   "source": [
    "#REPLACE WITH YOUR CODE# "
   ]
  },
  {
   "cell_type": "markdown",
   "metadata": {},
   "source": [
    "** Please write SQL queries to insert the above data (six rows) into the `grades` table **"
   ]
  },
  {
   "cell_type": "code",
   "execution_count": null,
   "metadata": {},
   "outputs": [],
   "source": [
    "#REPLACE WITH YOUR CODE# "
   ]
  },
  {
   "cell_type": "markdown",
   "metadata": {},
   "source": [
    "### 1.3 (4 points) Create a table  named `students`"
   ]
  },
  {
   "cell_type": "markdown",
   "metadata": {},
   "source": [
    "The `students` table has four columns and two rows as shown below. \n",
    "```\n",
    "id, name, gender, age\n",
    "1, Justin Bieber, Male, 18\n",
    "2, Celine Dion, Female, 19\n",
    "```\n",
    "**Please write an SQL query to create the `students` table. Note that the table has to meet the following requirements. **\n",
    " * `id`, `age` - integer\n",
    " * `name` - varchar(30)\n",
    " * `gender` - char(6)\n",
    " * id is Primary Key\n",
    " * `name` cannot be NULL"
   ]
  },
  {
   "cell_type": "code",
   "execution_count": null,
   "metadata": {},
   "outputs": [],
   "source": [
    "#REPLACE WITH YOUR CODE# "
   ]
  },
  {
   "cell_type": "markdown",
   "metadata": {},
   "source": [
    "** Please write SQL queries to insert the above data (2 rows) into the `student` table **"
   ]
  },
  {
   "cell_type": "code",
   "execution_count": null,
   "metadata": {
    "scrolled": true
   },
   "outputs": [],
   "source": [
    "#REPLACE WITH YOUR CODE# "
   ]
  },
  {
   "cell_type": "markdown",
   "metadata": {},
   "source": [
    "## Task 2. Using SQL to query a database (11 points)"
   ]
  },
  {
   "cell_type": "markdown",
   "metadata": {},
   "source": [
    "**2.1 (1 point) Please write an SQL query to show all rows in the `grades` table **"
   ]
  },
  {
   "cell_type": "code",
   "execution_count": null,
   "metadata": {},
   "outputs": [],
   "source": [
    "#REPLACE WITH YOUR CODE# "
   ]
  },
  {
   "cell_type": "markdown",
   "metadata": {},
   "source": [
    "**2.2 (1 point) Please write an SQL query to show the rows whose `course` is \"CMPT 354\" in the ``grades`` table**"
   ]
  },
  {
   "cell_type": "code",
   "execution_count": null,
   "metadata": {
    "scrolled": true
   },
   "outputs": [],
   "source": [
    "#REPLACE WITH YOUR CODE# "
   ]
  },
  {
   "cell_type": "markdown",
   "metadata": {},
   "source": [
    "**2.3 (1 point) Please write an SQL query to show the rows whose `mark` is larger than 60 and `credit` is no smaller than 4 in the ``grades`` table **"
   ]
  },
  {
   "cell_type": "code",
   "execution_count": null,
   "metadata": {},
   "outputs": [],
   "source": [
    "#REPLACE WITH YOUR CODE# "
   ]
  },
  {
   "cell_type": "markdown",
   "metadata": {},
   "source": [
    "** 2.4 (1 point) Please write an SQL query to show the rows whose `course` starts with \"CMPT\" in the ``grades`` table. **"
   ]
  },
  {
   "cell_type": "code",
   "execution_count": null,
   "metadata": {},
   "outputs": [],
   "source": [
    "#REPLACE WITH YOUR CODE# "
   ]
  },
  {
   "cell_type": "markdown",
   "metadata": {},
   "source": [
    "**2.5 (1 point) Please write an SQL query to show ``studentid``, ``course`` and ``mark`` of all rows in the ``grades`` table **"
   ]
  },
  {
   "cell_type": "code",
   "execution_count": null,
   "metadata": {},
   "outputs": [],
   "source": [
    "#REPLACE WITH YOUR CODE# "
   ]
  },
  {
   "cell_type": "markdown",
   "metadata": {},
   "source": [
    "**2.6 (1 point) Please write an SQL query to show _distinct_ `course` of all rows in the `grades` table**"
   ]
  },
  {
   "cell_type": "code",
   "execution_count": null,
   "metadata": {},
   "outputs": [],
   "source": [
    "#REPLACE WITH YOUR CODE# "
   ]
  },
  {
   "cell_type": "markdown",
   "metadata": {},
   "source": [
    "**2.7 (1 point) Please write an SQL query to show `studentid`, `course` and `markpoint` of all rows in the `grades` table. `markpoint` is defined as `markpoint` = `mark` * `credit`. **"
   ]
  },
  {
   "cell_type": "code",
   "execution_count": null,
   "metadata": {},
   "outputs": [],
   "source": [
    "#REPLACE WITH YOUR CODE# "
   ]
  },
  {
   "cell_type": "markdown",
   "metadata": {},
   "source": [
    "** 2.8 (2 points) Please write an SQL query to find the students who have taken \"CMPT 354\" and show their `name`, `mark`. **"
   ]
  },
  {
   "cell_type": "code",
   "execution_count": null,
   "metadata": {},
   "outputs": [],
   "source": [
    "#REPLACE WITH YOUR CODE# "
   ]
  },
  {
   "cell_type": "markdown",
   "metadata": {},
   "source": [
    "**2.9 (2 point) Please write an SQL query to compute `lettergrade` of each row in the `grades` table, and show `studentid`, `course` and `lettergrade` of all rows in the `grades` table. `lettergrade` is computed as follows: **\n",
    "\n",
    "* If `mark` >= 90, then `lettergrade` = \"A\"\n",
    "* If 80 <= `mark` < 90, then `lettergrade` = \"B\"\n",
    "* If 70 <= `mark` < 80, then `lettergrade` = \"C\"\n",
    "* If 60 <= `mark` < 70, then `lettergrade` = \"D\"\n",
    "* If `mark` < 60, then `lettergrade` = \"F\"\n",
    "\n",
    "Hint: please use a [CASE expression](http://www.sqlitetutorial.net/sqlite-case/) to transform numerical marks to letters."
   ]
  },
  {
   "cell_type": "code",
   "execution_count": null,
   "metadata": {},
   "outputs": [],
   "source": [
    "#REPLACE WITH YOUR CODE# "
   ]
  },
  {
   "cell_type": "markdown",
   "metadata": {},
   "source": [
    "## Submission"
   ]
  },
  {
   "cell_type": "markdown",
   "metadata": {},
   "source": [
    "Complete the code in this notebook [A1.ipynb](A1.ipynb), and submit it to the CourSys activity Assignment 1."
   ]
  }
 ],
 "metadata": {
  "kernelspec": {
   "display_name": "Python 2",
   "language": "python",
   "name": "python2"
  },
  "language_info": {
   "codemirror_mode": {
    "name": "ipython",
    "version": 2
   },
   "file_extension": ".py",
   "mimetype": "text/x-python",
   "name": "python",
   "nbconvert_exporter": "python",
   "pygments_lexer": "ipython2",
   "version": "2.7.15"
  }
 },
 "nbformat": 4,
 "nbformat_minor": 2
}
